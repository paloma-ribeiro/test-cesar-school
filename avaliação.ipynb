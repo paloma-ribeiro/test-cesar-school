{
  "nbformat": 4,
  "nbformat_minor": 0,
  "metadata": {
    "colab": {
      "name": "paloma_ribeiro_avaliação.ipynb",
      "provenance": []
    },
    "kernelspec": {
      "name": "python3",
      "display_name": "Python 3"
    },
    "language_info": {
      "name": "python"
    }
  },
  "cells": [
    {
      "cell_type": "markdown",
      "source": [
        "1. Peça o nome de um objeto para o usuário. Enquanto a palavra inserida for menor que 4 letras ou maior que 8 letras, imprima \"Palavra inválida\" e peça o nome do objeto novamente. Caso a palavra seja entre 4 a 8 letras, imprima \"Palavra válida\"."
      ],
      "metadata": {
        "id": "K8xFlUpXaOHk"
      }
    },
    {
      "cell_type": "code",
      "source": [
        "def ask_name_object() -> str:\n",
        "    name = input('Insira o nome do objeto: ')\n",
        "    return name"
      ],
      "metadata": {
        "id": "xuPhZcaCOnab"
      },
      "execution_count": 37,
      "outputs": []
    },
    {
      "cell_type": "code",
      "source": [
        "def validate_name_object(name_object: str):\n",
        "    x = True\n",
        "\n",
        "    while x:\n",
        "        if 4 <= len(name_object) <= 8:\n",
        "            print('Palavra válida')\n",
        "            break\n",
        "        else:\n",
        "            print('Palavra inválida')\n",
        "            continue"
      ],
      "metadata": {
        "id": "hIQHnuJD5WoQ"
      },
      "execution_count": 38,
      "outputs": []
    },
    {
      "cell_type": "code",
      "source": [
        "name = ask_name_object()"
      ],
      "metadata": {
        "colab": {
          "base_uri": "https://localhost:8080/"
        },
        "id": "dEyUo9YpB-6V",
        "outputId": "e84b83a6-301c-4701-866b-10cc304e6e63"
      },
      "execution_count": 39,
      "outputs": [
        {
          "name": "stdout",
          "output_type": "stream",
          "text": [
            "Insira o nome do objeto: cadeira\n"
          ]
        }
      ]
    },
    {
      "cell_type": "code",
      "source": [
        "# Test 1\n",
        "validate_name_object(name)"
      ],
      "metadata": {
        "colab": {
          "base_uri": "https://localhost:8080/"
        },
        "id": "-Ehh08Ra5aw_",
        "outputId": "bea906f5-2c3d-40d2-8648-40053f2159cf"
      },
      "execution_count": 40,
      "outputs": [
        {
          "output_type": "stream",
          "name": "stdout",
          "text": [
            "Palavra válida\n"
          ]
        }
      ]
    },
    {
      "cell_type": "markdown",
      "source": [
        "2. Use a palavra recebida na primeira questão e substitua toda letra 'a' pelo numeral 4, toda letra 'i' pelo numeral 1, toda letra 'e' pelo numeral 3 e imprima o resultado.\n",
        "\n",
        "  Se a palavra for cadeira deve-se imprimir c4d31r4"
      ],
      "metadata": {
        "id": "aSKftpVLaw4Y"
      }
    },
    {
      "cell_type": "code",
      "source": [
        "def replace_word(word: str) -> str:\n",
        "    word = word.lower()\n",
        "    new_word = word.replace('a', '4').replace('i', '1').replace('e', '3')\n",
        "\n",
        "    return (new_word)"
      ],
      "metadata": {
        "id": "eGZt-Fo56kZ0"
      },
      "execution_count": 41,
      "outputs": []
    },
    {
      "cell_type": "code",
      "source": [
        "# Test 1\n",
        "print(replace_word(name))"
      ],
      "metadata": {
        "id": "N-xrhvvjOq3W",
        "colab": {
          "base_uri": "https://localhost:8080/"
        },
        "outputId": "a11081f6-5f0c-41ac-88c2-10d3f5b9937b"
      },
      "execution_count": 42,
      "outputs": [
        {
          "output_type": "stream",
          "name": "stdout",
          "text": [
            "c4d31r4\n"
          ]
        }
      ]
    },
    {
      "cell_type": "markdown",
      "source": [
        "3. Crie uma função que recebe um número como parâmetro. A função deve calcular e retornar o fatorial desse número.\n",
        "\n",
        "  4! = 4\\*3! = 4\\*3\\*2\\*1\n",
        "\n",
        "  7! = 7\\*6! = 7\\*6\\*5\\*4\\*3\\*2\\*1"
      ],
      "metadata": {
        "id": "yMSbqNZebG_A"
      }
    },
    {
      "cell_type": "code",
      "source": [
        "def factorial(number: int) -> int:\n",
        "    numbers = []\n",
        "    product = 1\n",
        "\n",
        "    for i in range(1, number + 1):\n",
        "        numbers.append(i)\n",
        "\n",
        "    for i in numbers:\n",
        "        product *= i\n",
        "        \n",
        "    return product"
      ],
      "metadata": {
        "id": "yde3PeRAOt2R"
      },
      "execution_count": 19,
      "outputs": []
    },
    {
      "cell_type": "code",
      "source": [
        "# Test 1\n",
        "print(factorial(4))"
      ],
      "metadata": {
        "colab": {
          "base_uri": "https://localhost:8080/"
        },
        "id": "OkQn1r9lIZ7F",
        "outputId": "33a59ef0-bcdc-4ade-c1b5-abeea86c9e0a"
      },
      "execution_count": 20,
      "outputs": [
        {
          "output_type": "stream",
          "name": "stdout",
          "text": [
            "24\n"
          ]
        }
      ]
    },
    {
      "cell_type": "code",
      "source": [
        "# Test 2\n",
        "print(factorial(7))"
      ],
      "metadata": {
        "colab": {
          "base_uri": "https://localhost:8080/"
        },
        "id": "ixvE17QaIds8",
        "outputId": "93f6c73e-b210-449b-ea5a-9c889a36e863"
      },
      "execution_count": 21,
      "outputs": [
        {
          "output_type": "stream",
          "name": "stdout",
          "text": [
            "5040\n"
          ]
        }
      ]
    },
    {
      "cell_type": "markdown",
      "source": [
        "4. Crie uma função que recebe uma lista de números como parâmetro. A função deve filtrar a lista para apenas números positivos, em seguida deve remover os números repetidos e por fim imprimir a média dos números restantes"
      ],
      "metadata": {
        "id": "PKV9BrxhbbyI"
      }
    },
    {
      "cell_type": "code",
      "source": [
        "def list_filter(numbers: list) -> float:\n",
        "    new_numbers = list(set(filter(lambda x: x >= 0, numbers)))\n",
        "    average = sum(new_numbers) / len(new_numbers)\n",
        "\n",
        "    return average"
      ],
      "metadata": {
        "id": "DR_29MFvOwGi"
      },
      "execution_count": 22,
      "outputs": []
    },
    {
      "cell_type": "code",
      "source": [
        "# Test 1\n",
        "list_number = [1, 4, 4, 5, 7, 8, 8, -9, 0]\n",
        "result = list_filter(list_number)\n",
        "print(f'Média dos números: {result:.2f}')"
      ],
      "metadata": {
        "colab": {
          "base_uri": "https://localhost:8080/"
        },
        "id": "1IXA5euEmQ1r",
        "outputId": "45ab989b-42dd-43d0-d6aa-2a7d1bb0a443"
      },
      "execution_count": 23,
      "outputs": [
        {
          "output_type": "stream",
          "name": "stdout",
          "text": [
            "Média dos números: 4.17\n"
          ]
        }
      ]
    },
    {
      "cell_type": "code",
      "source": [
        "# Test 2\n",
        "list_number = [64, 4, -4, 5, 25, 8, 8, -9, 0, -1]\n",
        "result = list_filter(list_number)\n",
        "print(f'Média dos números: {result:.2f}')"
      ],
      "metadata": {
        "colab": {
          "base_uri": "https://localhost:8080/"
        },
        "id": "PZAipS4ioesi",
        "outputId": "63c16d51-d4d2-4c27-ea45-2cd0f5b4fe4d"
      },
      "execution_count": 29,
      "outputs": [
        {
          "output_type": "stream",
          "name": "stdout",
          "text": [
            "Média dos números: 17.67\n"
          ]
        }
      ]
    },
    {
      "cell_type": "markdown",
      "source": [
        "5. Crie uma função que recebe uma string com varias palavras separadas por virgula. Transforme essa string em uma lista de palavras.\n",
        "\n",
        "  `\"varias,palavras,separadas,por,virgula\"` deve virar `[\"varias\",\"palavras\",\"separadas\",\"por\",\"virgula\"]`\n",
        "\n",
        "  filtre essa lista, removendo as palavras começadas por 'p' ou terminadas em 's'.\n",
        "\n",
        "  Das palavras restantes, some o tamanho de cada palavra e imprime o resultado dessa soma"
      ],
      "metadata": {
        "id": "T4nx7nIyclzQ"
      }
    },
    {
      "cell_type": "code",
      "source": [
        "def count_words(string: str) -> int:\n",
        "    count = 0\n",
        "    string = string.lower()\n",
        "    string = string.split(',')\n",
        "\n",
        "    new_string = list(filter(lambda x: x[0] != 'p' and x[-1] != 's', string))\n",
        "\n",
        "    for i in new_string:\n",
        "        for j in i:\n",
        "            count += 1\n",
        "\n",
        "    return count"
      ],
      "metadata": {
        "id": "_k_5TGTbO1o3"
      },
      "execution_count": 30,
      "outputs": []
    },
    {
      "cell_type": "code",
      "source": [
        "# Test 1\n",
        "phrase1 = 'varias,palavras,separadas,por,virgula'\n",
        "print(count_words(phrase1))"
      ],
      "metadata": {
        "colab": {
          "base_uri": "https://localhost:8080/"
        },
        "id": "-Z2sfENd5I2R",
        "outputId": "c656bef3-c1a0-480f-e188-7de4ace11dbd"
      },
      "execution_count": 36,
      "outputs": [
        {
          "output_type": "stream",
          "name": "stdout",
          "text": [
            "7\n"
          ]
        }
      ]
    },
    {
      "cell_type": "code",
      "source": [
        "# Test 2\n",
        "phrase2 = 'maria,comprou,varias,Saladas,e,palitos'\n",
        "print(count_words(phrase2))"
      ],
      "metadata": {
        "colab": {
          "base_uri": "https://localhost:8080/"
        },
        "id": "HlZ8DRRL5LBc",
        "outputId": "053ce3a7-a378-40ef-d8a4-c6cb3d176359"
      },
      "execution_count": 35,
      "outputs": [
        {
          "output_type": "stream",
          "name": "stdout",
          "text": [
            "13\n"
          ]
        }
      ]
    },
    {
      "cell_type": "markdown",
      "source": [
        "6. Dentro da CLI do Linux/Mac, liste os comandos para:\n",
        " \n",
        " a) Criar uma pasta\n",
        " \n",
        " b) remover um arquivo/pasta\n",
        " \n",
        " c) listar todos os arquivos em um determinado diretorio\n",
        " \n",
        " d) navegar para outra pasta.\n",
        "\n",
        "```\n",
        "\n",
        "```\n",
        "\n"
      ],
      "metadata": {
        "id": "6ma-c3-UdtqH"
      }
    },
    {
      "cell_type": "markdown",
      "source": [
        "![image01.jpg](data:image/jpeg;base64,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)"
      ],
      "metadata": {
        "id": "zeofFjkSPgDQ"
      }
    },
    {
      "cell_type": "markdown",
      "source": [
        "7. Após entrar dentro de um arquivo de texto usando o comando \"vim nome_do_arquivo.txt\", que tecla precisamos apertar para conseguirmos editá-lo? E como é chamado esse **modo**? Como voltamos para o modo normal?"
      ],
      "metadata": {
        "id": "Nn-HhcSdkFGN"
      }
    },
    {
      "cell_type": "markdown",
      "source": [
        "Para que possamos editar um arquivo após acessa-lo via comando \"vim nome_do_arquivo.txt\", é necessário pressionar a tecla \"i\" (incluir) ou a tecla \"a\" (adicionar). Este modo que nos permite inserir texto no arquivo, é chamado \"modo de edição\".\n",
        "Para voltar ao modo anterior, é necessário pressionar a tecla \"ESC\", e em seguida \":q\", para sair do arquivo, e retornar a CLI."
      ],
      "metadata": {
        "id": "9Yk_pcn1PqQ1"
      }
    },
    {
      "cell_type": "markdown",
      "source": [
        "8. Após entrar dentro de um arquivo de texto usando o comando \"vim nome_do_arquivo.txt\", que comando precisamos dar para sair do arquivo salvando quaisquer alterações?"
      ],
      "metadata": {
        "id": "1qk4S8T4kUQc"
      }
    },
    {
      "cell_type": "markdown",
      "source": [
        "O comando para sair do arquivo, salvando toda a alteração realizada é \"ESC\", e em seguida \":wq\"."
      ],
      "metadata": {
        "id": "sHaGnKaYPv_n"
      }
    },
    {
      "cell_type": "markdown",
      "source": [
        "9. Em um determinado projeto em python, temos 5 scripts diferentes, e 3 planilhas.\n",
        "Cada script tem um conjunto de funcionalidades. O Script nomeado \"ScriptA.py\" tem a função de remover itens duplicados em uma determinada planilha, e em seguida, gerar um grafico daquela informação.\n",
        "\n",
        "  Foi solicitado que você gerasse um novo **commit** modificando o Script cujo nome é \"ScriptA.py\", para que o mesmo fosse capaz de ler qualquer uma das 3 planilhas e efetuar sua função.\n",
        "\n",
        "  Para garantir que o Script funcionaria em diversos casos diferentes você precisou modificar as 3 planilhas.\n",
        "\n",
        "  Ao rodar `git status` no seu git bash, você identificou que existem 4 arquivos modificados. As 3 planilhas e o \"ScriptA.py\". Para efetuar um commit com **apenas a modificação solicitada**, qual seria a sequencia de comandos que deveria ser efetuada?"
      ],
      "metadata": {
        "id": "MCSp-sjhkc7m"
      }
    },
    {
      "cell_type": "markdown",
      "source": [
        "git add ScriptA.py\n",
        "\n",
        "git commit -m \"Realizado modificação no ScriptA.py, para que ele leia qualquer uma das planilhas e efetue sua função\"\n",
        "\n",
        "git push"
      ],
      "metadata": {
        "id": "dzqnuvqFP00d"
      }
    },
    {
      "cell_type": "markdown",
      "source": [
        "10. Descreva em suas palavras como se dá o github flow"
      ],
      "metadata": {
        "id": "vevpz_YAkljN"
      }
    },
    {
      "cell_type": "markdown",
      "source": [
        "O github flow é uma estratégia de trabalho com ramificações, de modo que você não trabalhe diretamente na branch principal. Quando há necessidade de alteração no código, você deve criar uma nova ramificação, com cópia da master, e é onde você faz toda modificação e testes, e realiza a junção novamente (merge com a master), somente após todos os testes e validações terem sido realizados, na sua branch secundária. "
      ],
      "metadata": {
        "id": "mxezxNwvP4iJ"
      }
    },
    {
      "cell_type": "markdown",
      "source": [
        "11. Quais comandos gits são usados para atualizar seu repositorio local e enviar atualizações para o repositorio remoto?"
      ],
      "metadata": {
        "id": "cROhLDQlktm8"
      }
    },
    {
      "cell_type": "markdown",
      "source": [
        "Atualizar o repositório local:\n",
        "\n",
        "git pull ou git pull origin [nome da branch]\n",
        "\n",
        "\n",
        "---\n",
        "\n",
        "\n",
        "Enviar atualizações do repositório local para o repositório remoto:\n",
        "\n",
        "git push ou git push -u origin [nome da branch]"
      ],
      "metadata": {
        "id": "jV64ppdjP_CR"
      }
    },
    {
      "cell_type": "markdown",
      "source": [
        "12. O que são \"Conflitos\"? Quais comandos de git podemos usar para resolvê-los? Quais as principais diferenças entre eles?"
      ],
      "metadata": {
        "id": "lV7NC6Lvk0fI"
      }
    },
    {
      "cell_type": "markdown",
      "source": [
        "Conflito é quando tenta-se juntar na mesma branch, dois arquivos com mesmo nome, mas que estejam com modificações diferentes no código.\n",
        "\n",
        "Há duas maneiras de resolve-los, através do comando git merge e git rebase.\n",
        "\n",
        "Ao executar o comando git merge, verifica-se os conflitos gerados manualmente, decidindo quais modificações devem permanecer, e após sua correção, é necessário realizar um novo commit. O git merge, gera um novo commit na linha do tempo da branch de destino.\n",
        "\n",
        "Já ao executar o git rebase, é necessário ir resolvendo os conflitos manualmente, e executar o comando rebase continue, até que todos os conflitos sejam resolvidos. O git rebase não gera um novo commit na branch de destino."
      ],
      "metadata": {
        "id": "W2K2e8P_QGWW"
      }
    },
    {
      "cell_type": "markdown",
      "source": [
        "13. Usando boas práticas para a escrita de um commit message, escreva um exemplo de commit message que represente a mudança descrita na questão 1."
      ],
      "metadata": {
        "id": "KjWq5Fdbk3ak"
      }
    },
    {
      "cell_type": "markdown",
      "source": [
        "git commit -m \"Realizado modificação no ScriptA.py, para que ele leia qualquer uma das planilhas e efetue sua função\""
      ],
      "metadata": {
        "id": "O4ZjKRJuQJZN"
      }
    }
  ]
}